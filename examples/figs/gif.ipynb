{
 "cells": [
  {
   "cell_type": "code",
   "execution_count": 1,
   "metadata": {},
   "outputs": [],
   "source": [
    "import pandas as pd\n",
    "import numpy as np"
   ]
  },
  {
   "cell_type": "code",
   "execution_count": 4,
   "metadata": {},
   "outputs": [],
   "source": [
    "rankers = [\n",
    "    \"random\",\n",
    "    \"tracing\",\n",
    "   \"MF\",\n",
    "  \"sib_ranker\"]\n",
    "\n",
    "N=50000 #Number of individuals\n",
    "T=100 #Total time of simulations\n",
    "seed = 1 #random seed\n",
    "n_seed_infection = 10 #number of patient zero\n",
    "adoption_fraction = 1 #app adoption (fraction)\n",
    "num_test_random = 0 #number of random tests per day\n",
    "num_test_algo = 200 #number of tests using by the ranker per day\n",
    "fraction_SM_obs = 0.5 #fraction of Symptomatic Mild tested positive\n",
    "initial_steps = 10\n",
    "ress = {}\n",
    "for s in rankers:\n",
    "    \n",
    "    name_file_res =\"../../output/\" + s + f\"_N_{N}_T_{T}_obs_{num_test_algo}_SM_obs_{fraction_SM_obs}_seed_{seed}\"\n",
    "\n",
    "    ress[s] = pd.read_csv(name_file_res + \"_res.gz\")"
   ]
  },
  {
   "cell_type": "code",
   "execution_count": 8,
   "metadata": {},
   "outputs": [
    {
     "data": {
      "image/png": "[encoded data removed]",
      "text/plain": [
       "<Figure size 630x450 with 1 Axes>"
      ]
     },
     "metadata": {
      "needs_background": "light"
     },
     "output_type": "display_data"
    }
   ],
   "source": [
    "import matplotlib.pyplot as plt\n",
    "from matplotlib.animation import FuncAnimation\n",
    "import matplotlib.animation as anim\n",
    "\n",
    "fig, ax = plt.subplots(figsize=(7,5),dpi=90)\n",
    "fig.set_tight_layout(True)\n",
    "#fig.set_figheight(4)\n",
    "#fig.set_figwidth(6)\n",
    "# print('fig size: {0} DPI, size in inches {1}'.format(fig.get_dpi(), fig.get_size_inches()))\n",
    "\n",
    "lines = {}\n",
    "for r in rankers:\n",
    "    lines[r], = ax.plot([], [], lw=2, label=r)\n",
    "\n",
    "plt.legend(loc=\"upper left\")\n",
    "plt.ylabel(\"Infected\")\n",
    "\n",
    "ax.set_yscale(\"log\")\n",
    "ax.set_xlim(0, T)\n",
    "ax.set_ylim(1, 50000)\n",
    "\n",
    "plt.vlines(x=initial_steps, ymin=0, ymax=50000, ls='--', alpha=0.5)\n",
    "\n",
    "x_data = []\n",
    "      \n",
    "def init():\n",
    "    for r in lines:\n",
    "        lines[r].set_data([], [])\n",
    "    return lines,\n",
    "\n",
    "\n",
    "def animate(t):\n",
    "    label = 'day {0}'.format(t)\n",
    "    \n",
    "    ax.set_xlabel(label)\n",
    "    x_dat = [i for i in range(t)]\n",
    "    for r in rankers:\n",
    "            \n",
    "        my_y_data = ress[r][\"I\"][:t]\n",
    "        lines[r].set_data(x_dat, my_y_data)\n",
    "        #axis_all[i][alg].set_data(x_dat, my_y_data)\n",
    "\n",
    "    \n",
    "animat = FuncAnimation(fig, animate, init_func=init, frames=np.arange(0, T, 1))\n",
    "\n",
    "plt.title(\"50K individuals\")\n",
    "writer = anim.PillowWriter(fps=10)\n",
    "animat.save(\"anim_50K_log.gif\", writer=writer)"
   ]
  },
  {
   "cell_type": "code",
   "execution_count": null,
   "metadata": {},
   "outputs": [],
   "source": []
  }
 ],
 "metadata": {
  "kernelspec": {
   "display_name": "Python 3",
   "language": "python",
   "name": "python3"
  },
  "language_info": {
   "codemirror_mode": {
    "name": "ipython",
    "version": 3
   },
   "file_extension": ".py",
   "mimetype": "text/x-python",
   "name": "python",
   "nbconvert_exporter": "python",
   "pygments_lexer": "ipython3",
   "version": "3.7.5"
  }
 },
 "nbformat": 4,
 "nbformat_minor": 4
}
